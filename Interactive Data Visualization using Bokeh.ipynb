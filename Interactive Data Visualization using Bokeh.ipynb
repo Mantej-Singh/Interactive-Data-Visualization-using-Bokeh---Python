{
 "cells": [
  {
   "cell_type": "markdown",
   "metadata": {},
   "source": [
    "# Bar graph visualization with Bokeh"
   ]
  },
  {
   "cell_type": "code",
   "execution_count": 6,
   "metadata": {
    "collapsed": false
   },
   "outputs": [],
   "source": [
    "#Import library\n",
    "from bokeh.charts import Bar, output_file, show, output_notebook"
   ]
  },
  {
   "cell_type": "code",
   "execution_count": 7,
   "metadata": {
    "collapsed": true
   },
   "outputs": [],
   "source": [
    "# prepare data (dummy data)\n",
    "data = {\"y\": [1, 2, 3, 4, 5]}"
   ]
  },
  {
   "cell_type": "code",
   "execution_count": 8,
   "metadata": {
    "collapsed": true
   },
   "outputs": [],
   "source": [
    "# Output to Bar.html or you can show inline\n",
    "output_file(\"bar.html\", title=\"bar plot example\") "
   ]
  },
  {
   "cell_type": "code",
   "execution_count": 9,
   "metadata": {
    "collapsed": false
   },
   "outputs": [
    {
     "data": {
      "text/html": [
       "\n",
       "    <div class=\"bk-root\">\n",
       "        <a href=\"http://bokeh.pydata.org\" target=\"_blank\" class=\"bk-logo bk-logo-small bk-logo-notebook\"></a>\n",
       "        <span id=\"897bc204-c1b1-464e-9874-47d038a03e47\">Loading BokehJS ...</span>\n",
       "    </div>"
      ]
     },
     "metadata": {},
     "output_type": "display_data"
    },
    {
     "data": {
      "application/javascript": [
       "\n",
       "(function(global) {\n",
       "  function now() {\n",
       "    return new Date();\n",
       "  }\n",
       "\n",
       "  var force = true;\n",
       "\n",
       "  if (typeof (window._bokeh_onload_callbacks) === \"undefined\" || force === true) {\n",
       "    window._bokeh_onload_callbacks = [];\n",
       "    window._bokeh_is_loading = undefined;\n",
       "  }\n",
       "\n",
       "\n",
       "  \n",
       "  if (typeof (window._bokeh_timeout) === \"undefined\" || force === true) {\n",
       "    window._bokeh_timeout = Date.now() + 5000;\n",
       "    window._bokeh_failed_load = false;\n",
       "  }\n",
       "\n",
       "  var NB_LOAD_WARNING = {'data': {'text/html':\n",
       "     \"<div style='background-color: #fdd'>\\n\"+\n",
       "     \"<p>\\n\"+\n",
       "     \"BokehJS does not appear to have successfully loaded. If loading BokehJS from CDN, this \\n\"+\n",
       "     \"may be due to a slow or bad network connection. Possible fixes:\\n\"+\n",
       "     \"</p>\\n\"+\n",
       "     \"<ul>\\n\"+\n",
       "     \"<li>re-rerun `output_notebook()` to attempt to load from CDN again, or</li>\\n\"+\n",
       "     \"<li>use INLINE resources instead, as so:</li>\\n\"+\n",
       "     \"</ul>\\n\"+\n",
       "     \"<code>\\n\"+\n",
       "     \"from bokeh.resources import INLINE\\n\"+\n",
       "     \"output_notebook(resources=INLINE)\\n\"+\n",
       "     \"</code>\\n\"+\n",
       "     \"</div>\"}};\n",
       "\n",
       "  function display_loaded() {\n",
       "    if (window.Bokeh !== undefined) {\n",
       "      document.getElementById(\"897bc204-c1b1-464e-9874-47d038a03e47\").textContent = \"BokehJS successfully loaded.\";\n",
       "    } else if (Date.now() < window._bokeh_timeout) {\n",
       "      setTimeout(display_loaded, 100)\n",
       "    }\n",
       "  }\n",
       "\n",
       "  function run_callbacks() {\n",
       "    window._bokeh_onload_callbacks.forEach(function(callback) { callback() });\n",
       "    delete window._bokeh_onload_callbacks\n",
       "    console.info(\"Bokeh: all callbacks have finished\");\n",
       "  }\n",
       "\n",
       "  function load_libs(js_urls, callback) {\n",
       "    window._bokeh_onload_callbacks.push(callback);\n",
       "    if (window._bokeh_is_loading > 0) {\n",
       "      console.log(\"Bokeh: BokehJS is being loaded, scheduling callback at\", now());\n",
       "      return null;\n",
       "    }\n",
       "    if (js_urls == null || js_urls.length === 0) {\n",
       "      run_callbacks();\n",
       "      return null;\n",
       "    }\n",
       "    console.log(\"Bokeh: BokehJS not loaded, scheduling load and callback at\", now());\n",
       "    window._bokeh_is_loading = js_urls.length;\n",
       "    for (var i = 0; i < js_urls.length; i++) {\n",
       "      var url = js_urls[i];\n",
       "      var s = document.createElement('script');\n",
       "      s.src = url;\n",
       "      s.async = false;\n",
       "      s.onreadystatechange = s.onload = function() {\n",
       "        window._bokeh_is_loading--;\n",
       "        if (window._bokeh_is_loading === 0) {\n",
       "          console.log(\"Bokeh: all BokehJS libraries loaded\");\n",
       "          run_callbacks()\n",
       "        }\n",
       "      };\n",
       "      s.onerror = function() {\n",
       "        console.warn(\"failed to load library \" + url);\n",
       "      };\n",
       "      console.log(\"Bokeh: injecting script tag for BokehJS library: \", url);\n",
       "      document.getElementsByTagName(\"head\")[0].appendChild(s);\n",
       "    }\n",
       "  };var element = document.getElementById(\"897bc204-c1b1-464e-9874-47d038a03e47\");\n",
       "  if (element == null) {\n",
       "    console.log(\"Bokeh: ERROR: autoload.js configured with elementid '897bc204-c1b1-464e-9874-47d038a03e47' but no matching script tag was found. \")\n",
       "    return false;\n",
       "  }\n",
       "\n",
       "  var js_urls = [\"https://cdn.pydata.org/bokeh/release/bokeh-0.12.4.min.js\", \"https://cdn.pydata.org/bokeh/release/bokeh-widgets-0.12.4.min.js\"];\n",
       "\n",
       "  var inline_js = [\n",
       "    function(Bokeh) {\n",
       "      Bokeh.set_log_level(\"info\");\n",
       "    },\n",
       "    \n",
       "    function(Bokeh) {\n",
       "      \n",
       "      document.getElementById(\"897bc204-c1b1-464e-9874-47d038a03e47\").textContent = \"BokehJS is loading...\";\n",
       "    },\n",
       "    function(Bokeh) {\n",
       "      console.log(\"Bokeh: injecting CSS: https://cdn.pydata.org/bokeh/release/bokeh-0.12.4.min.css\");\n",
       "      Bokeh.embed.inject_css(\"https://cdn.pydata.org/bokeh/release/bokeh-0.12.4.min.css\");\n",
       "      console.log(\"Bokeh: injecting CSS: https://cdn.pydata.org/bokeh/release/bokeh-widgets-0.12.4.min.css\");\n",
       "      Bokeh.embed.inject_css(\"https://cdn.pydata.org/bokeh/release/bokeh-widgets-0.12.4.min.css\");\n",
       "    }\n",
       "  ];\n",
       "\n",
       "  function run_inline_js() {\n",
       "    \n",
       "    if ((window.Bokeh !== undefined) || (force === true)) {\n",
       "      for (var i = 0; i < inline_js.length; i++) {\n",
       "        inline_js[i](window.Bokeh);\n",
       "      }if (force === true) {\n",
       "        display_loaded();\n",
       "      }} else if (Date.now() < window._bokeh_timeout) {\n",
       "      setTimeout(run_inline_js, 100);\n",
       "    } else if (!window._bokeh_failed_load) {\n",
       "      console.log(\"Bokeh: BokehJS failed to load within specified timeout.\");\n",
       "      window._bokeh_failed_load = true;\n",
       "    } else if (force !== true) {\n",
       "      var cell = $(document.getElementById(\"897bc204-c1b1-464e-9874-47d038a03e47\")).parents('.cell').data().cell;\n",
       "      cell.output_area.append_execute_result(NB_LOAD_WARNING)\n",
       "    }\n",
       "\n",
       "  }\n",
       "\n",
       "  if (window._bokeh_is_loading === 0) {\n",
       "    console.log(\"Bokeh: BokehJS loaded, going straight to plotting\");\n",
       "    run_inline_js();\n",
       "  } else {\n",
       "    load_libs(js_urls, function() {\n",
       "      console.log(\"Bokeh: BokehJS plotting callback run at\", now());\n",
       "      run_inline_js();\n",
       "    });\n",
       "  }\n",
       "}(this));"
      ]
     },
     "metadata": {},
     "output_type": "display_data"
    }
   ],
   "source": [
    "# Output option\n",
    "output_notebook()"
   ]
  },
  {
   "cell_type": "code",
   "execution_count": 10,
   "metadata": {
    "collapsed": true
   },
   "outputs": [],
   "source": [
    "# create a new line chat with a title and axis labels\n",
    "out = Bar(data, title=\"Bar Chart Example\", xlabel='x', ylabel='values', width=400, height=400)"
   ]
  },
  {
   "cell_type": "code",
   "execution_count": 12,
   "metadata": {
    "collapsed": false
   },
   "outputs": [
    {
     "data": {
      "text/html": [
       "\n",
       "\n",
       "    <div class=\"bk-root\">\n",
       "        <div class=\"bk-plotdiv\" id=\"c1927061-c1fa-41de-88bf-71fa01fa4cae\"></div>\n",
       "    </div>\n",
       "<script type=\"text/javascript\">\n",
       "  \n",
       "  (function(global) {\n",
       "    function now() {\n",
       "      return new Date();\n",
       "    }\n",
       "  \n",
       "    var force = false;\n",
       "  \n",
       "    if (typeof (window._bokeh_onload_callbacks) === \"undefined\" || force === true) {\n",
       "      window._bokeh_onload_callbacks = [];\n",
       "      window._bokeh_is_loading = undefined;\n",
       "    }\n",
       "  \n",
       "  \n",
       "    \n",
       "    if (typeof (window._bokeh_timeout) === \"undefined\" || force === true) {\n",
       "      window._bokeh_timeout = Date.now() + 0;\n",
       "      window._bokeh_failed_load = false;\n",
       "    }\n",
       "  \n",
       "    var NB_LOAD_WARNING = {'data': {'text/html':\n",
       "       \"<div style='background-color: #fdd'>\\n\"+\n",
       "       \"<p>\\n\"+\n",
       "       \"BokehJS does not appear to have successfully loaded. If loading BokehJS from CDN, this \\n\"+\n",
       "       \"may be due to a slow or bad network connection. Possible fixes:\\n\"+\n",
       "       \"</p>\\n\"+\n",
       "       \"<ul>\\n\"+\n",
       "       \"<li>re-rerun `output_notebook()` to attempt to load from CDN again, or</li>\\n\"+\n",
       "       \"<li>use INLINE resources instead, as so:</li>\\n\"+\n",
       "       \"</ul>\\n\"+\n",
       "       \"<code>\\n\"+\n",
       "       \"from bokeh.resources import INLINE\\n\"+\n",
       "       \"output_notebook(resources=INLINE)\\n\"+\n",
       "       \"</code>\\n\"+\n",
       "       \"</div>\"}};\n",
       "  \n",
       "    function display_loaded() {\n",
       "      if (window.Bokeh !== undefined) {\n",
       "        document.getElementById(\"c1927061-c1fa-41de-88bf-71fa01fa4cae\").textContent = \"BokehJS successfully loaded.\";\n",
       "      } else if (Date.now() < window._bokeh_timeout) {\n",
       "        setTimeout(display_loaded, 100)\n",
       "      }\n",
       "    }\n",
       "  \n",
       "    function run_callbacks() {\n",
       "      window._bokeh_onload_callbacks.forEach(function(callback) { callback() });\n",
       "      delete window._bokeh_onload_callbacks\n",
       "      console.info(\"Bokeh: all callbacks have finished\");\n",
       "    }\n",
       "  \n",
       "    function load_libs(js_urls, callback) {\n",
       "      window._bokeh_onload_callbacks.push(callback);\n",
       "      if (window._bokeh_is_loading > 0) {\n",
       "        console.log(\"Bokeh: BokehJS is being loaded, scheduling callback at\", now());\n",
       "        return null;\n",
       "      }\n",
       "      if (js_urls == null || js_urls.length === 0) {\n",
       "        run_callbacks();\n",
       "        return null;\n",
       "      }\n",
       "      console.log(\"Bokeh: BokehJS not loaded, scheduling load and callback at\", now());\n",
       "      window._bokeh_is_loading = js_urls.length;\n",
       "      for (var i = 0; i < js_urls.length; i++) {\n",
       "        var url = js_urls[i];\n",
       "        var s = document.createElement('script');\n",
       "        s.src = url;\n",
       "        s.async = false;\n",
       "        s.onreadystatechange = s.onload = function() {\n",
       "          window._bokeh_is_loading--;\n",
       "          if (window._bokeh_is_loading === 0) {\n",
       "            console.log(\"Bokeh: all BokehJS libraries loaded\");\n",
       "            run_callbacks()\n",
       "          }\n",
       "        };\n",
       "        s.onerror = function() {\n",
       "          console.warn(\"failed to load library \" + url);\n",
       "        };\n",
       "        console.log(\"Bokeh: injecting script tag for BokehJS library: \", url);\n",
       "        document.getElementsByTagName(\"head\")[0].appendChild(s);\n",
       "      }\n",
       "    };var element = document.getElementById(\"c1927061-c1fa-41de-88bf-71fa01fa4cae\");\n",
       "    if (element == null) {\n",
       "      console.log(\"Bokeh: ERROR: autoload.js configured with elementid 'c1927061-c1fa-41de-88bf-71fa01fa4cae' but no matching script tag was found. \")\n",
       "      return false;\n",
       "    }\n",
       "  \n",
       "    var js_urls = [];\n",
       "  \n",
       "    var inline_js = [\n",
       "      function(Bokeh) {\n",
       "        (function() {\n",
       "          var fn = function() {\n",
       "            var docs_json = {\"ae29e774-f540-43d6-bc53-bc180ad2bbb8\":{\"roots\":{\"references\":[{\"attributes\":{\"callback\":null,\"column_names\":[\"color\",\"height\",\"y\",\"x\",\"line_alpha\",\"line_color\",\"width\",\"fill_alpha\",\"label\"],\"data\":{\"chart_index\":[{\"index\":3}],\"color\":[\"#f22c40\"],\"fill_alpha\":[0.8],\"height\":[4.0],\"index\":[3],\"label\":[{\"index\":3}],\"line_alpha\":[1.0],\"line_color\":[\"white\"],\"width\":[0.8],\"x\":[\"3\"],\"y\":[2.0]}},\"id\":\"bd2a54c8-27b9-4f86-bc07-9436e3b6b100\",\"type\":\"ColumnDataSource\"},{\"attributes\":{\"fill_alpha\":{\"field\":\"fill_alpha\"},\"fill_color\":{\"field\":\"color\"},\"height\":{\"field\":\"height\",\"units\":\"data\"},\"line_color\":{\"field\":\"line_color\"},\"width\":{\"field\":\"width\",\"units\":\"data\"},\"x\":{\"field\":\"x\"},\"y\":{\"field\":\"y\"}},\"id\":\"7607b742-4cda-47f0-a08c-2eddf6abd2dd\",\"type\":\"Rect\"},{\"attributes\":{\"fill_alpha\":{\"field\":\"fill_alpha\"},\"fill_color\":{\"field\":\"color\"},\"height\":{\"field\":\"height\",\"units\":\"data\"},\"line_color\":{\"field\":\"line_color\"},\"width\":{\"field\":\"width\",\"units\":\"data\"},\"x\":{\"field\":\"x\"},\"y\":{\"field\":\"y\"}},\"id\":\"a18f4ddc-670a-4290-bfd8-a72401deef72\",\"type\":\"Rect\"},{\"attributes\":{\"below\":[{\"id\":\"c1913ba0-b36e-47bc-9124-622c8166b1b1\",\"type\":\"CategoricalAxis\"}],\"css_classes\":null,\"height\":400,\"left\":[{\"id\":\"f76aa865-da29-4a33-ac29-418382dc7fda\",\"type\":\"LinearAxis\"}],\"renderers\":[{\"id\":\"d1e62277-acd5-4392-8b57-5b7a2d3db964\",\"type\":\"BoxAnnotation\"},{\"id\":\"179fb31f-125f-4b69-a7c5-90d18c8c21ec\",\"type\":\"GlyphRenderer\"},{\"id\":\"8b05a96c-2bf9-447d-80fd-66c68605e2f4\",\"type\":\"GlyphRenderer\"},{\"id\":\"4469be5e-c80c-4f32-9690-fb21d3f0bc61\",\"type\":\"GlyphRenderer\"},{\"id\":\"c37eb5ed-3dac-4089-8bf5-d27b9b7cb7f1\",\"type\":\"GlyphRenderer\"},{\"id\":\"094186b2-18cf-4923-8086-4ed83371977a\",\"type\":\"GlyphRenderer\"},{\"id\":\"4607c6ba-46bd-4654-9cab-28fcf707dfa5\",\"type\":\"Legend\"},{\"id\":\"c1913ba0-b36e-47bc-9124-622c8166b1b1\",\"type\":\"CategoricalAxis\"},{\"id\":\"f76aa865-da29-4a33-ac29-418382dc7fda\",\"type\":\"LinearAxis\"},{\"id\":\"3cd5ef4e-cf37-4b2e-acdb-12136a20fd1f\",\"type\":\"Grid\"}],\"title\":{\"id\":\"f151a064-1017-4e76-98d1-b165c07dfff1\",\"type\":\"Title\"},\"tool_events\":{\"id\":\"4c17b51d-d9f3-4b6a-9f0a-9a23fc71baad\",\"type\":\"ToolEvents\"},\"toolbar\":{\"id\":\"3de8d04b-affa-4c35-a6d1-bdffc3e33818\",\"type\":\"Toolbar\"},\"width\":400,\"x_mapper_type\":\"auto\",\"x_range\":{\"id\":\"9d9c506b-50a4-4341-8f51-ab49274645a4\",\"type\":\"FactorRange\"},\"y_mapper_type\":\"auto\",\"y_range\":{\"id\":\"fe7fae59-8929-4d66-9ae0-180d6a22e539\",\"type\":\"Range1d\"}},\"id\":\"74a954a8-ac18-4dff-8e0f-4e6b3f1318fc\",\"subtype\":\"Chart\",\"type\":\"Plot\"},{\"attributes\":{\"label\":{\"value\":\"3\"},\"renderers\":[{\"id\":\"c37eb5ed-3dac-4089-8bf5-d27b9b7cb7f1\",\"type\":\"GlyphRenderer\"}]},\"id\":\"eee057b2-cb1f-408e-8c82-fc6eebd15358\",\"type\":\"LegendItem\"},{\"attributes\":{\"active_drag\":\"auto\",\"active_scroll\":\"auto\",\"active_tap\":\"auto\",\"tools\":[{\"id\":\"99581c6c-4bf0-4f5c-b605-5efd133117f1\",\"type\":\"PanTool\"},{\"id\":\"36354215-a52d-4a71-9bc8-ac6a826193d8\",\"type\":\"WheelZoomTool\"},{\"id\":\"f4ef03eb-59f3-4491-bd89-63e642d692de\",\"type\":\"BoxZoomTool\"},{\"id\":\"69f04cef-0c12-4b03-9f29-70db570b289c\",\"type\":\"SaveTool\"},{\"id\":\"73411a6f-0ce3-49ab-905b-0e367ee0b5e8\",\"type\":\"ResetTool\"},{\"id\":\"bcb45567-cfc5-4a01-be44-dfbe0929fa90\",\"type\":\"HelpTool\"}]},\"id\":\"3de8d04b-affa-4c35-a6d1-bdffc3e33818\",\"type\":\"Toolbar\"},{\"attributes\":{\"plot\":null,\"text\":\"Bar Chart Example\"},\"id\":\"f151a064-1017-4e76-98d1-b165c07dfff1\",\"type\":\"Title\"},{\"attributes\":{},\"id\":\"3d9b0678-11bf-4a8a-865b-09bef98aba73\",\"type\":\"BasicTickFormatter\"},{\"attributes\":{\"callback\":null,\"column_names\":[\"color\",\"height\",\"y\",\"x\",\"line_alpha\",\"line_color\",\"width\",\"fill_alpha\",\"label\"],\"data\":{\"chart_index\":[{\"index\":1}],\"color\":[\"#f22c40\"],\"fill_alpha\":[0.8],\"height\":[2.0],\"index\":[1],\"label\":[{\"index\":1}],\"line_alpha\":[1.0],\"line_color\":[\"white\"],\"width\":[0.8],\"x\":[\"1\"],\"y\":[1.0]}},\"id\":\"be068efd-dca4-41e9-b211-dda38239ad1f\",\"type\":\"ColumnDataSource\"},{\"attributes\":{},\"id\":\"4c17b51d-d9f3-4b6a-9f0a-9a23fc71baad\",\"type\":\"ToolEvents\"},{\"attributes\":{},\"id\":\"fd0b20fc-492c-4748-868d-83a2da3d3dd8\",\"type\":\"CategoricalTickFormatter\"},{\"attributes\":{\"callback\":null,\"end\":5.25},\"id\":\"fe7fae59-8929-4d66-9ae0-180d6a22e539\",\"type\":\"Range1d\"},{\"attributes\":{\"dimension\":1,\"plot\":{\"id\":\"74a954a8-ac18-4dff-8e0f-4e6b3f1318fc\",\"subtype\":\"Chart\",\"type\":\"Plot\"},\"ticker\":{\"id\":\"58aec0d6-9deb-4658-8d2a-86562c2859a7\",\"type\":\"BasicTicker\"}},\"id\":\"3cd5ef4e-cf37-4b2e-acdb-12136a20fd1f\",\"type\":\"Grid\"},{\"attributes\":{\"data_source\":{\"id\":\"be068efd-dca4-41e9-b211-dda38239ad1f\",\"type\":\"ColumnDataSource\"},\"glyph\":{\"id\":\"030dc821-934f-4cea-9d62-a747333d648c\",\"type\":\"Rect\"},\"hover_glyph\":null,\"nonselection_glyph\":null,\"selection_glyph\":null},\"id\":\"8b05a96c-2bf9-447d-80fd-66c68605e2f4\",\"type\":\"GlyphRenderer\"},{\"attributes\":{\"items\":[{\"id\":\"d3f86cf3-95a8-49cb-86cb-0ded8d7ad5e1\",\"type\":\"LegendItem\"},{\"id\":\"39009610-2401-49b1-b51a-6ea7f30e00d1\",\"type\":\"LegendItem\"},{\"id\":\"dea344c3-4e8f-44bd-8500-92c73f51a035\",\"type\":\"LegendItem\"},{\"id\":\"eee057b2-cb1f-408e-8c82-fc6eebd15358\",\"type\":\"LegendItem\"},{\"id\":\"53094e6b-75ed-4cf6-a5c9-3302d679a042\",\"type\":\"LegendItem\"}],\"location\":\"top_left\",\"plot\":{\"id\":\"74a954a8-ac18-4dff-8e0f-4e6b3f1318fc\",\"subtype\":\"Chart\",\"type\":\"Plot\"}},\"id\":\"4607c6ba-46bd-4654-9cab-28fcf707dfa5\",\"type\":\"Legend\"},{\"attributes\":{\"callback\":null,\"column_names\":[\"color\",\"height\",\"y\",\"x\",\"line_alpha\",\"line_color\",\"width\",\"fill_alpha\",\"label\"],\"data\":{\"chart_index\":[{\"index\":4}],\"color\":[\"#f22c40\"],\"fill_alpha\":[0.8],\"height\":[5.0],\"index\":[4],\"label\":[{\"index\":4}],\"line_alpha\":[1.0],\"line_color\":[\"white\"],\"width\":[0.8],\"x\":[\"4\"],\"y\":[2.5]}},\"id\":\"8eb92e26-3a89-49e3-8a0c-2969abef880f\",\"type\":\"ColumnDataSource\"},{\"attributes\":{\"plot\":{\"id\":\"74a954a8-ac18-4dff-8e0f-4e6b3f1318fc\",\"subtype\":\"Chart\",\"type\":\"Plot\"}},\"id\":\"99581c6c-4bf0-4f5c-b605-5efd133117f1\",\"type\":\"PanTool\"},{\"attributes\":{\"label\":{\"value\":\"1\"},\"renderers\":[{\"id\":\"8b05a96c-2bf9-447d-80fd-66c68605e2f4\",\"type\":\"GlyphRenderer\"}]},\"id\":\"39009610-2401-49b1-b51a-6ea7f30e00d1\",\"type\":\"LegendItem\"},{\"attributes\":{\"formatter\":{\"id\":\"fd0b20fc-492c-4748-868d-83a2da3d3dd8\",\"type\":\"CategoricalTickFormatter\"},\"major_label_orientation\":0.7853981633974483,\"plot\":{\"id\":\"74a954a8-ac18-4dff-8e0f-4e6b3f1318fc\",\"subtype\":\"Chart\",\"type\":\"Plot\"},\"ticker\":{\"id\":\"71ccac94-d977-478a-8b31-f7efbcb6673d\",\"type\":\"CategoricalTicker\"}},\"id\":\"c1913ba0-b36e-47bc-9124-622c8166b1b1\",\"type\":\"CategoricalAxis\"},{\"attributes\":{\"axis_label\":\"values\",\"formatter\":{\"id\":\"3d9b0678-11bf-4a8a-865b-09bef98aba73\",\"type\":\"BasicTickFormatter\"},\"plot\":{\"id\":\"74a954a8-ac18-4dff-8e0f-4e6b3f1318fc\",\"subtype\":\"Chart\",\"type\":\"Plot\"},\"ticker\":{\"id\":\"58aec0d6-9deb-4658-8d2a-86562c2859a7\",\"type\":\"BasicTicker\"}},\"id\":\"f76aa865-da29-4a33-ac29-418382dc7fda\",\"type\":\"LinearAxis\"},{\"attributes\":{\"fill_alpha\":{\"field\":\"fill_alpha\"},\"fill_color\":{\"field\":\"color\"},\"height\":{\"field\":\"height\",\"units\":\"data\"},\"line_color\":{\"field\":\"line_color\"},\"width\":{\"field\":\"width\",\"units\":\"data\"},\"x\":{\"field\":\"x\"},\"y\":{\"field\":\"y\"}},\"id\":\"3eb4feaf-3a05-46cb-9bb2-c10c83b340d1\",\"type\":\"Rect\"},{\"attributes\":{\"fill_alpha\":{\"field\":\"fill_alpha\"},\"fill_color\":{\"field\":\"color\"},\"height\":{\"field\":\"height\",\"units\":\"data\"},\"line_color\":{\"field\":\"line_color\"},\"width\":{\"field\":\"width\",\"units\":\"data\"},\"x\":{\"field\":\"x\"},\"y\":{\"field\":\"y\"}},\"id\":\"030dc821-934f-4cea-9d62-a747333d648c\",\"type\":\"Rect\"},{\"attributes\":{\"data_source\":{\"id\":\"3cdb1add-3182-45a2-a2d0-ff98cbc95149\",\"type\":\"ColumnDataSource\"},\"glyph\":{\"id\":\"3eb4feaf-3a05-46cb-9bb2-c10c83b340d1\",\"type\":\"Rect\"},\"hover_glyph\":null,\"nonselection_glyph\":null,\"selection_glyph\":null},\"id\":\"4469be5e-c80c-4f32-9690-fb21d3f0bc61\",\"type\":\"GlyphRenderer\"},{\"attributes\":{},\"id\":\"58aec0d6-9deb-4658-8d2a-86562c2859a7\",\"type\":\"BasicTicker\"},{\"attributes\":{\"plot\":{\"id\":\"74a954a8-ac18-4dff-8e0f-4e6b3f1318fc\",\"subtype\":\"Chart\",\"type\":\"Plot\"}},\"id\":\"73411a6f-0ce3-49ab-905b-0e367ee0b5e8\",\"type\":\"ResetTool\"},{\"attributes\":{\"plot\":{\"id\":\"74a954a8-ac18-4dff-8e0f-4e6b3f1318fc\",\"subtype\":\"Chart\",\"type\":\"Plot\"}},\"id\":\"36354215-a52d-4a71-9bc8-ac6a826193d8\",\"type\":\"WheelZoomTool\"},{\"attributes\":{\"callback\":null,\"column_names\":[\"color\",\"height\",\"y\",\"x\",\"line_alpha\",\"line_color\",\"width\",\"fill_alpha\",\"label\"],\"data\":{\"chart_index\":[{\"index\":2}],\"color\":[\"#f22c40\"],\"fill_alpha\":[0.8],\"height\":[3.0],\"index\":[2],\"label\":[{\"index\":2}],\"line_alpha\":[1.0],\"line_color\":[\"white\"],\"width\":[0.8],\"x\":[\"2\"],\"y\":[1.5]}},\"id\":\"3cdb1add-3182-45a2-a2d0-ff98cbc95149\",\"type\":\"ColumnDataSource\"},{\"attributes\":{\"bottom_units\":\"screen\",\"fill_alpha\":{\"value\":0.5},\"fill_color\":{\"value\":\"lightgrey\"},\"left_units\":\"screen\",\"level\":\"overlay\",\"line_alpha\":{\"value\":1.0},\"line_color\":{\"value\":\"black\"},\"line_dash\":[4,4],\"line_width\":{\"value\":2},\"plot\":null,\"render_mode\":\"css\",\"right_units\":\"screen\",\"top_units\":\"screen\"},\"id\":\"d1e62277-acd5-4392-8b57-5b7a2d3db964\",\"type\":\"BoxAnnotation\"},{\"attributes\":{\"overlay\":{\"id\":\"d1e62277-acd5-4392-8b57-5b7a2d3db964\",\"type\":\"BoxAnnotation\"},\"plot\":{\"id\":\"74a954a8-ac18-4dff-8e0f-4e6b3f1318fc\",\"subtype\":\"Chart\",\"type\":\"Plot\"}},\"id\":\"f4ef03eb-59f3-4491-bd89-63e642d692de\",\"type\":\"BoxZoomTool\"},{\"attributes\":{\"label\":{\"value\":\"2\"},\"renderers\":[{\"id\":\"4469be5e-c80c-4f32-9690-fb21d3f0bc61\",\"type\":\"GlyphRenderer\"}]},\"id\":\"dea344c3-4e8f-44bd-8500-92c73f51a035\",\"type\":\"LegendItem\"},{\"attributes\":{\"data_source\":{\"id\":\"8eb92e26-3a89-49e3-8a0c-2969abef880f\",\"type\":\"ColumnDataSource\"},\"glyph\":{\"id\":\"7607b742-4cda-47f0-a08c-2eddf6abd2dd\",\"type\":\"Rect\"},\"hover_glyph\":null,\"nonselection_glyph\":null,\"selection_glyph\":null},\"id\":\"094186b2-18cf-4923-8086-4ed83371977a\",\"type\":\"GlyphRenderer\"},{\"attributes\":{\"label\":{\"value\":\"0\"},\"renderers\":[{\"id\":\"179fb31f-125f-4b69-a7c5-90d18c8c21ec\",\"type\":\"GlyphRenderer\"}]},\"id\":\"d3f86cf3-95a8-49cb-86cb-0ded8d7ad5e1\",\"type\":\"LegendItem\"},{\"attributes\":{\"data_source\":{\"id\":\"bd2a54c8-27b9-4f86-bc07-9436e3b6b100\",\"type\":\"ColumnDataSource\"},\"glyph\":{\"id\":\"89ae3539-9589-4e76-b3bb-d77ac26a2744\",\"type\":\"Rect\"},\"hover_glyph\":null,\"nonselection_glyph\":null,\"selection_glyph\":null},\"id\":\"c37eb5ed-3dac-4089-8bf5-d27b9b7cb7f1\",\"type\":\"GlyphRenderer\"},{\"attributes\":{\"callback\":null,\"factors\":[\"0\",\"1\",\"2\",\"3\",\"4\"]},\"id\":\"9d9c506b-50a4-4341-8f51-ab49274645a4\",\"type\":\"FactorRange\"},{\"attributes\":{\"label\":{\"value\":\"4\"},\"renderers\":[{\"id\":\"094186b2-18cf-4923-8086-4ed83371977a\",\"type\":\"GlyphRenderer\"}]},\"id\":\"53094e6b-75ed-4cf6-a5c9-3302d679a042\",\"type\":\"LegendItem\"},{\"attributes\":{},\"id\":\"71ccac94-d977-478a-8b31-f7efbcb6673d\",\"type\":\"CategoricalTicker\"},{\"attributes\":{\"plot\":{\"id\":\"74a954a8-ac18-4dff-8e0f-4e6b3f1318fc\",\"subtype\":\"Chart\",\"type\":\"Plot\"}},\"id\":\"69f04cef-0c12-4b03-9f29-70db570b289c\",\"type\":\"SaveTool\"},{\"attributes\":{\"plot\":{\"id\":\"74a954a8-ac18-4dff-8e0f-4e6b3f1318fc\",\"subtype\":\"Chart\",\"type\":\"Plot\"}},\"id\":\"bcb45567-cfc5-4a01-be44-dfbe0929fa90\",\"type\":\"HelpTool\"},{\"attributes\":{\"callback\":null,\"column_names\":[\"color\",\"height\",\"y\",\"x\",\"line_alpha\",\"line_color\",\"width\",\"fill_alpha\",\"label\"],\"data\":{\"chart_index\":[{\"index\":0}],\"color\":[\"#f22c40\"],\"fill_alpha\":[0.8],\"height\":[1.0],\"index\":[0],\"label\":[{\"index\":0}],\"line_alpha\":[1.0],\"line_color\":[\"white\"],\"width\":[0.8],\"x\":[\"0\"],\"y\":[0.5]}},\"id\":\"a21804b1-db53-406a-89f7-2866988e50f3\",\"type\":\"ColumnDataSource\"},{\"attributes\":{\"fill_alpha\":{\"field\":\"fill_alpha\"},\"fill_color\":{\"field\":\"color\"},\"height\":{\"field\":\"height\",\"units\":\"data\"},\"line_color\":{\"field\":\"line_color\"},\"width\":{\"field\":\"width\",\"units\":\"data\"},\"x\":{\"field\":\"x\"},\"y\":{\"field\":\"y\"}},\"id\":\"89ae3539-9589-4e76-b3bb-d77ac26a2744\",\"type\":\"Rect\"},{\"attributes\":{\"data_source\":{\"id\":\"a21804b1-db53-406a-89f7-2866988e50f3\",\"type\":\"ColumnDataSource\"},\"glyph\":{\"id\":\"a18f4ddc-670a-4290-bfd8-a72401deef72\",\"type\":\"Rect\"},\"hover_glyph\":null,\"nonselection_glyph\":null,\"selection_glyph\":null},\"id\":\"179fb31f-125f-4b69-a7c5-90d18c8c21ec\",\"type\":\"GlyphRenderer\"}],\"root_ids\":[\"74a954a8-ac18-4dff-8e0f-4e6b3f1318fc\"]},\"title\":\"Bokeh Application\",\"version\":\"0.12.4\"}};\n",
       "            var render_items = [{\"docid\":\"ae29e774-f540-43d6-bc53-bc180ad2bbb8\",\"elementid\":\"c1927061-c1fa-41de-88bf-71fa01fa4cae\",\"modelid\":\"74a954a8-ac18-4dff-8e0f-4e6b3f1318fc\"}];\n",
       "            \n",
       "            Bokeh.embed.embed_items(docs_json, render_items);\n",
       "          };\n",
       "          if (document.readyState != \"loading\") fn();\n",
       "          else document.addEventListener(\"DOMContentLoaded\", fn);\n",
       "        })();\n",
       "      },\n",
       "      function(Bokeh) {\n",
       "      }\n",
       "    ];\n",
       "  \n",
       "    function run_inline_js() {\n",
       "      \n",
       "      if ((window.Bokeh !== undefined) || (force === true)) {\n",
       "        for (var i = 0; i < inline_js.length; i++) {\n",
       "          inline_js[i](window.Bokeh);\n",
       "        }if (force === true) {\n",
       "          display_loaded();\n",
       "        }} else if (Date.now() < window._bokeh_timeout) {\n",
       "        setTimeout(run_inline_js, 100);\n",
       "      } else if (!window._bokeh_failed_load) {\n",
       "        console.log(\"Bokeh: BokehJS failed to load within specified timeout.\");\n",
       "        window._bokeh_failed_load = true;\n",
       "      } else if (force !== true) {\n",
       "        var cell = $(document.getElementById(\"c1927061-c1fa-41de-88bf-71fa01fa4cae\")).parents('.cell').data().cell;\n",
       "        cell.output_area.append_execute_result(NB_LOAD_WARNING)\n",
       "      }\n",
       "  \n",
       "    }\n",
       "  \n",
       "    if (window._bokeh_is_loading === 0) {\n",
       "      console.log(\"Bokeh: BokehJS loaded, going straight to plotting\");\n",
       "      run_inline_js();\n",
       "    } else {\n",
       "      load_libs(js_urls, function() {\n",
       "        console.log(\"Bokeh: BokehJS plotting callback run at\", now());\n",
       "        run_inline_js();\n",
       "      });\n",
       "    }\n",
       "  }(this));\n",
       "</script>"
      ]
     },
     "metadata": {},
     "output_type": "display_data"
    }
   ],
   "source": [
    "# show the result in new webpage + inline in ipy notebook\n",
    "show(out)"
   ]
  },
  {
   "cell_type": "markdown",
   "metadata": {},
   "source": [
    "## Output file is saved as \"bar.html\" in local drive"
   ]
  },
  {
   "cell_type": "markdown",
   "metadata": {},
   "source": [
    "## ![s](http://s19.postimg.org/741fp2x4j/screenshot_1488337270.png)"
   ]
  },
  {
   "cell_type": "markdown",
   "metadata": {},
   "source": [
    "## above output is embedded  using \"!.[demo].(image url)\" ipython markdown"
   ]
  },
  {
   "cell_type": "code",
   "execution_count": null,
   "metadata": {
    "collapsed": true
   },
   "outputs": [],
   "source": []
  }
 ],
 "metadata": {
  "kernelspec": {
   "display_name": "Python 3",
   "language": "python",
   "name": "python3"
  },
  "language_info": {
   "codemirror_mode": {
    "name": "ipython",
    "version": 3
   },
   "file_extension": ".py",
   "mimetype": "text/x-python",
   "name": "python",
   "nbconvert_exporter": "python",
   "pygments_lexer": "ipython3",
   "version": "3.5.2"
  }
 },
 "nbformat": 4,
 "nbformat_minor": 1
}
